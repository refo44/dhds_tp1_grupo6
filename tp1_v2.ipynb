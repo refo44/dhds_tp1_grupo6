{
 "cells": [
  {
   "cell_type": "code",
   "execution_count": 12,
   "id": "bc1d5354",
   "metadata": {},
   "outputs": [
    {
     "name": "stdout",
     "output_type": "stream",
     "text": [
      "(121220, 26)\n"
     ]
    },
    {
     "data": {
      "text/html": [
       "<div>\n",
       "<style scoped>\n",
       "    .dataframe tbody tr th:only-of-type {\n",
       "        vertical-align: middle;\n",
       "    }\n",
       "\n",
       "    .dataframe tbody tr th {\n",
       "        vertical-align: top;\n",
       "    }\n",
       "\n",
       "    .dataframe thead th {\n",
       "        text-align: right;\n",
       "    }\n",
       "</style>\n",
       "<table border=\"1\" class=\"dataframe\">\n",
       "  <thead>\n",
       "    <tr style=\"text-align: right;\">\n",
       "      <th></th>\n",
       "      <th>Unnamed: 0</th>\n",
       "      <th>operation</th>\n",
       "      <th>property_type</th>\n",
       "      <th>place_name</th>\n",
       "      <th>place_with_parent_names</th>\n",
       "      <th>country_name</th>\n",
       "      <th>state_name</th>\n",
       "      <th>geonames_id</th>\n",
       "      <th>lat-lon</th>\n",
       "      <th>lat</th>\n",
       "      <th>...</th>\n",
       "      <th>surface_covered_in_m2</th>\n",
       "      <th>price_usd_per_m2</th>\n",
       "      <th>price_per_m2</th>\n",
       "      <th>floor</th>\n",
       "      <th>rooms</th>\n",
       "      <th>expenses</th>\n",
       "      <th>properati_url</th>\n",
       "      <th>description</th>\n",
       "      <th>title</th>\n",
       "      <th>image_thumbnail</th>\n",
       "    </tr>\n",
       "  </thead>\n",
       "  <tbody>\n",
       "    <tr>\n",
       "      <th>0</th>\n",
       "      <td>0</td>\n",
       "      <td>sell</td>\n",
       "      <td>PH</td>\n",
       "      <td>Mataderos</td>\n",
       "      <td>|Argentina|Capital Federal|Mataderos|</td>\n",
       "      <td>Argentina</td>\n",
       "      <td>Capital Federal</td>\n",
       "      <td>3430787.0</td>\n",
       "      <td>-34.6618237,-58.5088387</td>\n",
       "      <td>-34.661824</td>\n",
       "      <td>...</td>\n",
       "      <td>40.0</td>\n",
       "      <td>1127.272727</td>\n",
       "      <td>1550.0</td>\n",
       "      <td>NaN</td>\n",
       "      <td>NaN</td>\n",
       "      <td>NaN</td>\n",
       "      <td>http://www.properati.com.ar/15bo8_venta_ph_mat...</td>\n",
       "      <td>2 AMBIENTES TIPO CASA PLANTA BAJA POR PASILLO,...</td>\n",
       "      <td>2 AMB TIPO CASA SIN EXPENSAS EN PB</td>\n",
       "      <td>https://thumbs4.properati.com/8/BluUYiHJLhgIIK...</td>\n",
       "    </tr>\n",
       "    <tr>\n",
       "      <th>1</th>\n",
       "      <td>1</td>\n",
       "      <td>sell</td>\n",
       "      <td>apartment</td>\n",
       "      <td>La Plata</td>\n",
       "      <td>|Argentina|Bs.As. G.B.A. Zona Sur|La Plata|</td>\n",
       "      <td>Argentina</td>\n",
       "      <td>Bs.As. G.B.A. Zona Sur</td>\n",
       "      <td>3432039.0</td>\n",
       "      <td>-34.9038831,-57.9643295</td>\n",
       "      <td>-34.903883</td>\n",
       "      <td>...</td>\n",
       "      <td>NaN</td>\n",
       "      <td>NaN</td>\n",
       "      <td>NaN</td>\n",
       "      <td>NaN</td>\n",
       "      <td>NaN</td>\n",
       "      <td>NaN</td>\n",
       "      <td>http://www.properati.com.ar/15bob_venta_depart...</td>\n",
       "      <td>Venta de departamento en décimo piso al frente...</td>\n",
       "      <td>VENTA Depto 2 dorm. a estrenar 7 e/ 36 y 37   ...</td>\n",
       "      <td>https://thumbs4.properati.com/7/ikpVBu2ztHA7jv...</td>\n",
       "    </tr>\n",
       "  </tbody>\n",
       "</table>\n",
       "<p>2 rows × 26 columns</p>\n",
       "</div>"
      ],
      "text/plain": [
       "   Unnamed: 0 operation property_type place_name  \\\n",
       "0           0      sell            PH  Mataderos   \n",
       "1           1      sell     apartment   La Plata   \n",
       "\n",
       "                       place_with_parent_names country_name  \\\n",
       "0        |Argentina|Capital Federal|Mataderos|    Argentina   \n",
       "1  |Argentina|Bs.As. G.B.A. Zona Sur|La Plata|    Argentina   \n",
       "\n",
       "               state_name  geonames_id                  lat-lon        lat  \\\n",
       "0         Capital Federal    3430787.0  -34.6618237,-58.5088387 -34.661824   \n",
       "1  Bs.As. G.B.A. Zona Sur    3432039.0  -34.9038831,-57.9643295 -34.903883   \n",
       "\n",
       "   ...  surface_covered_in_m2  price_usd_per_m2 price_per_m2  floor  rooms  \\\n",
       "0  ...                   40.0       1127.272727       1550.0    NaN    NaN   \n",
       "1  ...                    NaN               NaN          NaN    NaN    NaN   \n",
       "\n",
       "   expenses                                      properati_url  \\\n",
       "0       NaN  http://www.properati.com.ar/15bo8_venta_ph_mat...   \n",
       "1       NaN  http://www.properati.com.ar/15bob_venta_depart...   \n",
       "\n",
       "                                         description  \\\n",
       "0  2 AMBIENTES TIPO CASA PLANTA BAJA POR PASILLO,...   \n",
       "1  Venta de departamento en décimo piso al frente...   \n",
       "\n",
       "                                               title  \\\n",
       "0                 2 AMB TIPO CASA SIN EXPENSAS EN PB   \n",
       "1  VENTA Depto 2 dorm. a estrenar 7 e/ 36 y 37   ...   \n",
       "\n",
       "                                     image_thumbnail  \n",
       "0  https://thumbs4.properati.com/8/BluUYiHJLhgIIK...  \n",
       "1  https://thumbs4.properati.com/7/ikpVBu2ztHA7jv...  \n",
       "\n",
       "[2 rows x 26 columns]"
      ]
     },
     "execution_count": 12,
     "metadata": {},
     "output_type": "execute_result"
    }
   ],
   "source": [
    "import pandas as pd\n",
    "import numpy as np\n",
    "import matplotlib.pyplot as plt\n",
    "\n",
    "data = pd.read_csv(\"./properatti.csv\")\n",
    "print(data.shape)\n",
    "data.head(2)"
   ]
  },
  {
   "cell_type": "code",
   "execution_count": 13,
   "id": "8cb70156",
   "metadata": {},
   "outputs": [
    {
     "name": "stdout",
     "output_type": "stream",
     "text": [
      "(121220, 26)\n",
      "<class 'pandas.core.frame.DataFrame'>\n",
      "RangeIndex: 121220 entries, 0 to 121219\n",
      "Data columns (total 26 columns):\n",
      " #   Column                      Non-Null Count   Dtype  \n",
      "---  ------                      --------------   -----  \n",
      " 0   Unnamed: 0                  121220 non-null  int64  \n",
      " 1   operation                   121220 non-null  object \n",
      " 2   property_type               121220 non-null  object \n",
      " 3   place_name                  121197 non-null  object \n",
      " 4   place_with_parent_names     121220 non-null  object \n",
      " 5   country_name                121220 non-null  object \n",
      " 6   state_name                  121220 non-null  object \n",
      " 7   geonames_id                 102503 non-null  float64\n",
      " 8   lat-lon                     69670 non-null   object \n",
      " 9   lat                         69670 non-null   float64\n",
      " 10  lon                         69670 non-null   float64\n",
      " 11  price                       100810 non-null  float64\n",
      " 12  currency                    100809 non-null  object \n",
      " 13  price_aprox_local_currency  100810 non-null  float64\n",
      " 14  price_aprox_usd             100810 non-null  float64\n",
      " 15  surface_total_in_m2         81892 non-null   float64\n",
      " 16  surface_covered_in_m2       101313 non-null  float64\n",
      " 17  price_usd_per_m2            68617 non-null   float64\n",
      " 18  price_per_m2                87658 non-null   float64\n",
      " 19  floor                       7899 non-null    float64\n",
      " 20  rooms                       47390 non-null   float64\n",
      " 21  expenses                    14262 non-null   float64\n",
      " 22  properati_url               121220 non-null  object \n",
      " 23  description                 121218 non-null  object \n",
      " 24  title                       121220 non-null  object \n",
      " 25  image_thumbnail             118108 non-null  object \n",
      "dtypes: float64(13), int64(1), object(12)\n",
      "memory usage: 24.0+ MB\n",
      "None\n"
     ]
    }
   ],
   "source": [
    "print(data.shape) # tamaño del DataFrame\n",
    "print(data.info())"
   ]
  },
  {
   "cell_type": "code",
   "execution_count": 14,
   "id": "b68decf3",
   "metadata": {},
   "outputs": [
    {
     "data": {
      "text/plain": [
       "Unnamed: 0                      int64\n",
       "operation                      object\n",
       "property_type                  object\n",
       "place_name                     object\n",
       "place_with_parent_names        object\n",
       "country_name                   object\n",
       "state_name                     object\n",
       "geonames_id                   float64\n",
       "lat-lon                        object\n",
       "lat                           float64\n",
       "lon                           float64\n",
       "price                         float64\n",
       "currency                       object\n",
       "price_aprox_local_currency    float64\n",
       "price_aprox_usd               float64\n",
       "surface_total_in_m2           float64\n",
       "surface_covered_in_m2         float64\n",
       "price_usd_per_m2              float64\n",
       "price_per_m2                  float64\n",
       "floor                         float64\n",
       "rooms                         float64\n",
       "expenses                      float64\n",
       "properati_url                  object\n",
       "description                    object\n",
       "title                          object\n",
       "image_thumbnail                object\n",
       "dtype: object"
      ]
     },
     "execution_count": 14,
     "metadata": {},
     "output_type": "execute_result"
    }
   ],
   "source": [
    "#tipos de datos de cada columna\n",
    "data.dtypes"
   ]
  },
  {
   "cell_type": "code",
   "execution_count": 15,
   "id": "f34590e8",
   "metadata": {},
   "outputs": [
    {
     "data": {
      "text/plain": [
       "count     68617.000000\n",
       "mean       2160.086916\n",
       "std        2759.288621\n",
       "min           0.600000\n",
       "25%        1218.181818\n",
       "50%        1800.000000\n",
       "75%        2486.411765\n",
       "max      206333.333333\n",
       "Name: price_usd_per_m2, dtype: float64"
      ]
     },
     "execution_count": 15,
     "metadata": {},
     "output_type": "execute_result"
    }
   ],
   "source": [
    "#surface_covered_in_m2, price_usd_per_m2\n",
    "data.surface_covered_in_m2.describe()\n",
    "\n",
    "data.price_usd_per_m2.describe()\n"
   ]
  },
  {
   "cell_type": "markdown",
   "id": "0fea2671",
   "metadata": {},
   "source": [
    "La libreria missingno proporciona una serie de visualizaciones para comprender la presencia y distribución de datos faltantes dentro de un DataFrame"
   ]
  },
  {
   "cell_type": "code",
   "execution_count": null,
   "id": "c14bdce7",
   "metadata": {},
   "outputs": [],
   "source": [
    "import missingno as msno # proporciona una serie de visualizaciones para comprender la presencia y distribución de datos faltantes dentro de un DataFrame\n",
    "\n",
    "data.isna().sum()\n",
    "\n",
    "msno.bar(data, color=\"dodgerblue\", sort=\"ascending\", fontsize=12, figsize=(18,8)) # gráfico simple donde cada barra representa una columna dentro del marco de datos. La altura de la barra indica qué tan completa está esa columna, es decir, cuántos valores no nulos están presentes\n",
    "msno.heatmap(data, fontsize=12, figsize=(18,8)) #el mapa de calor se puede utilizar para identificar si existe una relación en presencia de valores nulos entre cada una de las columnas\n",
    "msno.dendrogram(data, fontsize=12, figsize=(18,8))"
   ]
  },
  {
   "cell_type": "markdown",
   "id": "4d025c9a",
   "metadata": {},
   "source": [
    "Teniendo en Cuenta los análisis anteriores, se opta por eliminar las siguientes columnas:\n",
    "\n",
    "Categoricas (practicamente todas las observaciones son diferentes)\n",
    "1) Unnamed: 0\n",
    "2) operation\n",
    "3) place_with_parent_names\t\n",
    "4) properati_url\n",
    "5) description\t\n",
    "6) title\n",
    "7) image_thumbnail\n",
    "8) country_name (todas las observaciones son de Argentina)\n",
    "\n",
    "Cuantitativas con muy pocos datos (<40%)\n",
    "\n",
    "9) floor\n",
    "10) expenses\n",
    "\n",
    "\n",
    "Hay 5 variables que tienen la misma información, con coeficiente de correlación de \"1\", será seleccionada price_usd_per_m2 ya que da amyor información y estandar (USD/m2). Por lo tanto se eliminan las siguientes columnas\n",
    "\n",
    "price                         \n",
    "currency                       \n",
    "price_aprox_local_currency\n",
    "price_aprox_usd"
   ]
  },
  {
   "cell_type": "code",
   "execution_count": null,
   "id": "a807b351",
   "metadata": {},
   "outputs": [],
   "source": [
    "# data_1 tiene el DataFrame despues de eliminar columnas \n",
    "\n",
    "data_1 = data.drop([\"Unnamed: 0\", \"operation\", \"place_with_parent_names\", \"geonames_id\", \"lat\", \"lon\", \"properati_url\", \"description\", \"title\",  \"image_thumbnail\", \"floor\", \"expenses\", \"currency\", \"country_name\", \"lat-lon\", \"price\", \"price_aprox_local_currency\", \"rooms\"], axis=1)\n",
    "data_1.head(3)\n"
   ]
  },
  {
   "cell_type": "markdown",
   "id": "bf240742",
   "metadata": {},
   "source": [
    "Teniendo en cuenta que nuestra variable objetivo es price_usd_per_m2, calcularemos algunas observaciones NaN a partir de price_aprox_usd y surface_total_in_m2"
   ]
  },
  {
   "cell_type": "code",
   "execution_count": null,
   "id": "fe47c3b6",
   "metadata": {},
   "outputs": [],
   "source": [
    "#data_5=data_1.apply(lambda x: x.fillna(value={\"price_usd_per_m2\": data_1[\"price_aprox_usd\"]/data_1[\"surface_total_in_m2\"]}))\n",
    "#data_5.price_usd_per_m2.isna().count()\n",
    "#data_1.price_usd_per_m2.isna().count()\n",
    "\n",
    "print(\"El número de Nan para price_price_usd_per_m2 es: \", data_1.price_usd_per_m2.isna().sum())\n",
    "print(\"El número de Nan para price_aprox_usd es: \", data_1.price_aprox_usd.isna().sum())\n",
    "print(\"El número de Nan para surface_total_in_m2 es: \", data_1.surface_total_in_m2.isna().sum())\n",
    "\n",
    "data_2=data_1.apply(lambda x: x.fillna(value={\"price_usd_per_m2\": data_1[\"price_aprox_usd\"]/data_1[\"surface_total_in_m2\"]}))\n",
    "\n",
    "print(\"El número de Nan para price_price_usd_per_m2 despues de aplicar la función es: \", data_2.price_usd_per_m2.isna().sum())\n",
    "\n"
   ]
  },
  {
   "cell_type": "markdown",
   "id": "390dedb6",
   "metadata": {},
   "source": [
    "Se concluye que tenemos la sumatoria de NaN total en price_usd_per_m2 debido a la falta del dato en el númerador (price_aprox_usd) o denominador (surface_total_in_m2)\n",
    "\n",
    "Eliminamos observaciones NaN en la variable \"Y\" (price_usd_per_m2)"
   ]
  },
  {
   "cell_type": "code",
   "execution_count": null,
   "id": "9b845651",
   "metadata": {},
   "outputs": [],
   "source": [
    "#data_2 = data_1.dropna(subset = [\"price_usd_per_m2\"])\n",
    "#data_2.price_usd_per_m2.isna().count()\n",
    "\n",
    "mask_isna = data_1.price_usd_per_m2.isna() == False\n",
    "data_2 = data_1[mask_isna]\n",
    "\n",
    "data_2.head(5)"
   ]
  },
  {
   "cell_type": "markdown",
   "id": "edee8afe",
   "metadata": {},
   "source": [
    "Visualizar datos extremos"
   ]
  },
  {
   "cell_type": "code",
   "execution_count": null,
   "id": "a901e106",
   "metadata": {},
   "outputs": [],
   "source": [
    "import seaborn as sns\n",
    "\n",
    "fig, axes = plt.subplots(2, 2, figsize = (18,6))\n",
    "sns.boxplot(x=data_2[\"price_usd_per_m2\"], ax=axes[0,0])\n",
    "sns.boxplot(x=data_2[\"surface_covered_in_m2\"], ax=axes[0,1])\n",
    "sns.boxplot(x=data_2[\"surface_covered_in_m2\"], ax=axes[1,0])\n",
    "sns.scatterplot(data=data_2, x=\"surface_covered_in_m2\", y=\"price_usd_per_m2\", ax=axes[1,1])\n",
    "plt.show"
   ]
  },
  {
   "cell_type": "code",
   "execution_count": null,
   "id": "1e039230",
   "metadata": {},
   "outputs": [],
   "source": [
    "#Analisis de cuartiles para precio en USD por m2\n",
    "\n",
    "\n",
    "Q1_precio_usdm2 = data_2[\"price_usd_per_m2\"].quantile(0.25)\n",
    "Q3_precio_usdm2 = data_2[\"price_usd_per_m2\"].quantile(0.75)\n",
    "print(\"los cuartiles para para precio en USD por m2 son: \", round(Q1_precio_usdm2), round(Q3_precio_usdm2))\n",
    "\n",
    "IQR_pusd = Q3_precio_usdm2-Q1_precio_usdm2 \n",
    "\n",
    "lim_inf_pusd = Q1_precio_usdm2  - 2*IQR_pusd\n",
    "lim_sup_pusd = Q3_precio_usdm2 + 2*IQR_pusd\n",
    "\n",
    "print(\"Los limites para para precio en USD por m2 son: \", round(lim_inf_pusd), round(lim_sup_pusd))"
   ]
  },
  {
   "cell_type": "code",
   "execution_count": null,
   "id": "81da0309",
   "metadata": {},
   "outputs": [],
   "source": [
    "##Eliminar datos atipicos\n",
    "\n",
    "# Precio en dolares por en m2\n",
    "\n",
    "mask_precio_m2 = data_2.price_usd_per_m2<= 5023  # con esta mascara se eliminan 873 observaciones\n",
    "mask_isna_precio_m2 = data_2.price_usd_per_m2.isna() == True\n",
    "\n",
    "import pandas as pd\n",
    "data_precio_sin_outlier = data_2[mask_precio_m2 | mask_isna_precio_m2]\n",
    "print(\"El tamaño DataFrame despues de eliminar los outlier es: \",data_precio_sin_outlier.shape)"
   ]
  },
  {
   "cell_type": "code",
   "execution_count": null,
   "id": "4b9b553b",
   "metadata": {},
   "outputs": [],
   "source": [
    "import pandas as pd\n",
    "import seaborn as sns\n",
    "\n",
    "\n",
    "plt.figure(figsize=(16,8))\n",
    "plt.subplot(2,2,1)\n",
    "g1=sns.histplot(data_2[\"price_usd_per_m2\"], kde=True)\n",
    "g1.set(xlabel =\"PRECIO EN USD/m2 - antes de la eliminación de puntos extremos\", ylabel = \"Conteo\")\n",
    "plt.subplot(2,2,2)\n",
    "g2=sns.boxplot(x=data_2[\"price_usd_per_m2\"])\n",
    "g2.set(xlabel =\"PRECIO EN USD/m2 - antes de la eliminación de puntos extremos\")\n",
    "plt.subplot(2,2,3)\n",
    "g3=sns.histplot(data_precio_sin_outlier[\"price_usd_per_m2\"], kde=True)\n",
    "g3.set(xlabel =\"PRECIO EN USD POR m2 - Despues de la eliminación de puntos extremos\", ylabel = \"Conteo\")\n",
    "plt.subplot(2,2,4)\n",
    "g4=sns.boxplot(x=data_precio_sin_outlier[\"price_usd_per_m2\"])\n",
    "g4.set(xlabel =\"PRECIO EN USD/m2 - Despues de la eliminación de puntos extremos\")\n",
    "plt.show()"
   ]
  },
  {
   "cell_type": "code",
   "execution_count": null,
   "id": "b24361d6",
   "metadata": {
    "jupyter": {
     "outputs_hidden": true
    }
   },
   "outputs": [],
   "source": [
    "import seaborn as sns\n",
    "\n",
    "fig, axes = plt.subplots(1, 2, figsize = (12,6))\n",
    "\n",
    "s_p = sns.histplot(data=data_scm2, x = \"surface_covered_in_m2\", hue=\"property_type\", ax=axes[0])\n",
    "s_p.set(xlim = (0, 1000))\n",
    "\n",
    "p_p = sns.histplot(data=data_usdm2, x = \"price_usd_per_m2\", hue=\"property_type\", ax=axes[1])\n",
    "p_p.set(xlim = (0, 10000))"
   ]
  },
  {
   "cell_type": "code",
   "execution_count": null,
   "id": "bd472312",
   "metadata": {
    "jupyter": {
     "outputs_hidden": true
    }
   },
   "outputs": [],
   "source": [
    "#Histograma\n",
    "%matplotlib inline\n",
    "\n",
    "n_bins = 50\n",
    "\n",
    "fig, axs = plt.subplots(1,2, figsize = (15,10))\n",
    "axs[0].hist(data_scm2.surface_covered_in_m2, bins = n_bins)\n",
    "axs[1].hist(data_usdm2.price_usd_per_m2, bins = n_bins)\n",
    "#axs[1,0].hist(data.price_usd_per_m2)\n",
    "#axs[1,1].hist(data.price_per_m2)\n",
    "\n"
   ]
  },
  {
   "cell_type": "markdown",
   "id": "24ba1791",
   "metadata": {},
   "source": [
    "Segun estos análisis la Superficie mayores a 1000m2  y los precios en dolares por m2 mayores a 10000 son puntos extremos. \n",
    "Esto no quiere decir que no sean \"reales\", pero van a sesgar seguramento futuros modelos en el TP2\n",
    "Teniendo en cuenta estos limites, tenemos 379 observaciones extremas para \"surface_covered_in_m2\" y 873 para \"price_usd_per_m2\"\n",
    "\n",
    "¿Que se hacemos con esas observaciones?"
   ]
  },
  {
   "cell_type": "code",
   "execution_count": null,
   "id": "24199071",
   "metadata": {
    "jupyter": {
     "outputs_hidden": true
    }
   },
   "outputs": [],
   "source": [
    "msno.bar(data_1, color=\"dodgerblue\", sort=\"ascending\", fontsize=12, figsize=(18,8))\n",
    "msno.heatmap(data_1, fontsize=12, figsize=(18,8)) #el mapa de calor se puede utilizar para identificar si existe una relación en presencia de valores nulos entre cada una de las columnas\n",
    "msno.dendrogram(data_1, fontsize=12, figsize=(18,8))"
   ]
  },
  {
   "cell_type": "code",
   "execution_count": null,
   "id": "5448e428",
   "metadata": {
    "jupyter": {
     "outputs_hidden": true
    }
   },
   "outputs": [],
   "source": [
    "data.price.count()\n",
    "data.price_aprox_usd.count()\n",
    "data.price_aprox_local_currency.count()\n",
    "\n",
    "\n",
    "data_1.surface_total_in_m2.count()\n",
    "data_1.surface_covered_in_m2.count()"
   ]
  },
  {
   "cell_type": "code",
   "execution_count": null,
   "id": "7a9e517e",
   "metadata": {
    "jupyter": {
     "outputs_hidden": true
    }
   },
   "outputs": [],
   "source": [
    "#mask_100m2 = data.surface_total_in_m22<= 1000\n",
    "mask_isna_superficie_total = data_1.surface_total_in_m2.isna() == False\n",
    "data_2 = data_1[mask_isna_superficie_total]\n",
    "\n",
    "data_2.shape\n",
    "\n",
    "data_2.head(5)"
   ]
  },
  {
   "cell_type": "code",
   "execution_count": null,
   "id": "78156978",
   "metadata": {
    "jupyter": {
     "outputs_hidden": true
    }
   },
   "outputs": [],
   "source": [
    "prome_agrup_tipo_place = data_2.groupby([\"property_type\", \"place_name\"]).mean()\n",
    "prome_agrup_tipo_place"
   ]
  },
  {
   "cell_type": "code",
   "execution_count": null,
   "id": "592ebda6",
   "metadata": {
    "jupyter": {
     "outputs_hidden": true
    }
   },
   "outputs": [],
   "source": [
    "data_4=data_1.groupby([\"property_type\", \"place_name\"]).apply(lambda x: x.fillna(value={\"price_usd_per_m2\": x[\"price_usd_per_m2\"].mean()}))\n",
    "\n",
    "print(\"número de NaN despues de aplicar la función a price_usd_per_m2: \",data_4.price_usd_per_m2.isna().count())\n",
    "print(\"número de NaN antes de aplicar la función a price_usd_per_m2: \", data_1.price_usd_per_m2.isna().count())\n",
    "print(\"Diferencia en el número de NaN: \", data_1.price_usd_per_m2.isna().count() - data_4.price_usd_per_m2.isna().count())\n",
    "\n",
    "data_4.head(5)\n"
   ]
  },
  {
   "cell_type": "code",
   "execution_count": null,
   "id": "b54d8d0c",
   "metadata": {
    "jupyter": {
     "outputs_hidden": true
    }
   },
   "outputs": [],
   "source": [
    "p_p = sns.histplot(data=data_4, x = \"price_usd_per_m2\", hue=\"property_type\")\n",
    "p_p.set(xlim = (0, 8000))"
   ]
  },
  {
   "cell_type": "code",
   "execution_count": null,
   "id": "daa17ae4",
   "metadata": {},
   "outputs": [],
   "source": []
  },
  {
   "cell_type": "code",
   "execution_count": null,
   "id": "2f83d827",
   "metadata": {},
   "outputs": [],
   "source": []
  }
 ],
 "metadata": {
  "kernelspec": {
   "display_name": "Python 3 (ipykernel)",
   "language": "python",
   "name": "python3"
  },
  "language_info": {
   "codemirror_mode": {
    "name": "ipython",
    "version": 3
   },
   "file_extension": ".py",
   "mimetype": "text/x-python",
   "name": "python",
   "nbconvert_exporter": "python",
   "pygments_lexer": "ipython3",
   "version": "3.9.13"
  }
 },
 "nbformat": 4,
 "nbformat_minor": 5
}
