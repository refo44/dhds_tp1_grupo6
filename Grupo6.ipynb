{
 "cells": [
  {
   "cell_type": "markdown",
   "metadata": {},
   "source": [
    "# Proyecto 1 - limpieza de datos\n",
    "\n",
    "Autores:\n",
    "\n",
    "* Alejandro Pacheco\n",
    "* Laura Martinez\n",
    "* Juan Carlos Marín\n",
    "* Ignacio Neves\n",
    "* Luisa Correa\n",
    "* Rafael Figueredo"
   ]
  },
  {
   "cell_type": "markdown",
   "metadata": {},
   "source": [
    "## Librerias\n",
    "\n",
    "Inicialmente, importamos las librerias con las que se planea trabajar, para entender los datos y como trabajarlos."
   ]
  },
  {
   "cell_type": "code",
   "execution_count": 6,
   "metadata": {},
   "outputs": [],
   "source": [
    "import pandas as pd\n",
    "import matplotlib.pyplot as plt\n",
    "import seaborn as sns\n",
    "import numpy as np"
   ]
  },
  {
   "cell_type": "markdown",
   "metadata": {},
   "source": [
    "## Lectura del dataframe\n",
    "\n",
    "Utilizamos la libreria Pandas para leer el dataset, y realizaremos un sampleo de 10 datos, el caual nos permite identificar columnas que cuentan con la misma información.\n",
    "\n",
    "A continuación, utilizaremos el metodo **set_index()** para cambiar establecer la columna \"Unnamed: 0\" como el indice del dataframe."
   ]
  },
  {
   "cell_type": "code",
   "execution_count": 60,
   "metadata": {},
   "outputs": [],
   "source": [
    "data = pd.read_csv('../data/properatti.csv')\n",
    "data = data.drop('Unnamed: 0', axis = 1)"
   ]
  },
  {
   "cell_type": "code",
   "execution_count": 38,
   "metadata": {},
   "outputs": [
    {
     "data": {
      "text/html": [
       "<div>\n",
       "<style scoped>\n",
       "    .dataframe tbody tr th:only-of-type {\n",
       "        vertical-align: middle;\n",
       "    }\n",
       "\n",
       "    .dataframe tbody tr th {\n",
       "        vertical-align: top;\n",
       "    }\n",
       "\n",
       "    .dataframe thead th {\n",
       "        text-align: right;\n",
       "    }\n",
       "</style>\n",
       "<table border=\"1\" class=\"dataframe\">\n",
       "  <thead>\n",
       "    <tr style=\"text-align: right;\">\n",
       "      <th></th>\n",
       "      <th>operation</th>\n",
       "      <th>property_type</th>\n",
       "      <th>place_name</th>\n",
       "      <th>place_with_parent_names</th>\n",
       "      <th>country_name</th>\n",
       "      <th>state_name</th>\n",
       "      <th>geonames_id</th>\n",
       "      <th>lat-lon</th>\n",
       "      <th>lat</th>\n",
       "      <th>lon</th>\n",
       "      <th>...</th>\n",
       "      <th>surface_covered_in_m2</th>\n",
       "      <th>price_usd_per_m2</th>\n",
       "      <th>price_per_m2</th>\n",
       "      <th>floor</th>\n",
       "      <th>rooms</th>\n",
       "      <th>expenses</th>\n",
       "      <th>properati_url</th>\n",
       "      <th>description</th>\n",
       "      <th>title</th>\n",
       "      <th>image_thumbnail</th>\n",
       "    </tr>\n",
       "  </thead>\n",
       "  <tbody>\n",
       "    <tr>\n",
       "      <th>54623</th>\n",
       "      <td>sell</td>\n",
       "      <td>apartment</td>\n",
       "      <td>Caballito</td>\n",
       "      <td>|Argentina|Capital Federal|Caballito|</td>\n",
       "      <td>Argentina</td>\n",
       "      <td>Capital Federal</td>\n",
       "      <td>3435874.0</td>\n",
       "      <td>-34.6254804,-58.4516687</td>\n",
       "      <td>-34.625480</td>\n",
       "      <td>-58.451669</td>\n",
       "      <td>...</td>\n",
       "      <td>40.0</td>\n",
       "      <td>2887.500000</td>\n",
       "      <td>2887.500000</td>\n",
       "      <td>3.0</td>\n",
       "      <td>NaN</td>\n",
       "      <td>NaN</td>\n",
       "      <td>http://www.properati.com.ar/19nct_venta_depart...</td>\n",
       "      <td>VENTA DEPARTAMENTO 1 Y 1/2 AMBIENTES CABALLITO...</td>\n",
       "      <td>DEPARTAMENTO EN VENTA</td>\n",
       "      <td>https://thumbs4.properati.com/9/SKOV23p_gJ3X1F...</td>\n",
       "    </tr>\n",
       "    <tr>\n",
       "      <th>84528</th>\n",
       "      <td>sell</td>\n",
       "      <td>apartment</td>\n",
       "      <td>Rosario</td>\n",
       "      <td>|Argentina|Santa Fe|Rosario|</td>\n",
       "      <td>Argentina</td>\n",
       "      <td>Santa Fe</td>\n",
       "      <td>3838574.0</td>\n",
       "      <td>NaN</td>\n",
       "      <td>NaN</td>\n",
       "      <td>NaN</td>\n",
       "      <td>...</td>\n",
       "      <td>60.0</td>\n",
       "      <td>NaN</td>\n",
       "      <td>26741.666667</td>\n",
       "      <td>NaN</td>\n",
       "      <td>NaN</td>\n",
       "      <td>NaN</td>\n",
       "      <td>http://www.properati.com.ar/1b1ts_venta_depart...</td>\n",
       "      <td>2 dormitorios al frente en construcción con pr...</td>\n",
       "      <td>Departamento - Rosario</td>\n",
       "      <td>https://thumbs4.properati.com/4/aPov2b3WjZjTjp...</td>\n",
       "    </tr>\n",
       "    <tr>\n",
       "      <th>1707</th>\n",
       "      <td>sell</td>\n",
       "      <td>house</td>\n",
       "      <td>Tigre</td>\n",
       "      <td>|Argentina|Bs.As. G.B.A. Zona Norte|Tigre|</td>\n",
       "      <td>Argentina</td>\n",
       "      <td>Bs.As. G.B.A. Zona Norte</td>\n",
       "      <td>3427753.0</td>\n",
       "      <td>-34.46538925,-58.64939117</td>\n",
       "      <td>-34.465389</td>\n",
       "      <td>-58.649391</td>\n",
       "      <td>...</td>\n",
       "      <td>220.0</td>\n",
       "      <td>NaN</td>\n",
       "      <td>NaN</td>\n",
       "      <td>NaN</td>\n",
       "      <td>3.0</td>\n",
       "      <td>NaN</td>\n",
       "      <td>http://www.properati.com.ar/15jaf_venta_casa_t...</td>\n",
       "      <td>Zona:Residencial-Asfalto-Obra sanitaria:Pozo-P...</td>\n",
       "      <td>U$D 190.000 - Casa en Venta - C Belgrano     1834</td>\n",
       "      <td>https://thumbs4.properati.com/1/fmvlPbmy7tYCey...</td>\n",
       "    </tr>\n",
       "    <tr>\n",
       "      <th>26581</th>\n",
       "      <td>sell</td>\n",
       "      <td>apartment</td>\n",
       "      <td>Boedo</td>\n",
       "      <td>|Argentina|Capital Federal|Boedo|</td>\n",
       "      <td>Argentina</td>\n",
       "      <td>Capital Federal</td>\n",
       "      <td>3436003.0</td>\n",
       "      <td>-34.6222039,-58.416089</td>\n",
       "      <td>-34.622204</td>\n",
       "      <td>-58.416089</td>\n",
       "      <td>...</td>\n",
       "      <td>32.0</td>\n",
       "      <td>24375.000000</td>\n",
       "      <td>24375.000000</td>\n",
       "      <td>NaN</td>\n",
       "      <td>1.0</td>\n",
       "      <td>NaN</td>\n",
       "      <td>http://www.properati.com.ar/17r9f_venta_depart...</td>\n",
       "      <td>Departamento  1 ambiente divisible con balconD...</td>\n",
       "      <td>Depa 1 amb y medio en cuotas de $ 11.000-</td>\n",
       "      <td>https://thumbs4.properati.com/0/4ntAWqUvQeNA1R...</td>\n",
       "    </tr>\n",
       "    <tr>\n",
       "      <th>76573</th>\n",
       "      <td>sell</td>\n",
       "      <td>house</td>\n",
       "      <td>City Bell</td>\n",
       "      <td>|Argentina|Bs.As. G.B.A. Zona Sur|La Plata|Cit...</td>\n",
       "      <td>Argentina</td>\n",
       "      <td>Bs.As. G.B.A. Zona Sur</td>\n",
       "      <td>3435379.0</td>\n",
       "      <td>NaN</td>\n",
       "      <td>NaN</td>\n",
       "      <td>NaN</td>\n",
       "      <td>...</td>\n",
       "      <td>415.0</td>\n",
       "      <td>NaN</td>\n",
       "      <td>NaN</td>\n",
       "      <td>NaN</td>\n",
       "      <td>NaN</td>\n",
       "      <td>NaN</td>\n",
       "      <td>http://www.properati.com.ar/1arre_venta_casa_c...</td>\n",
       "      <td>Excelente casa sobre lote de 1004 m2 con un fr...</td>\n",
       "      <td>Casa en Venta en City Bell Barrio Cerrado Loma...</td>\n",
       "      <td>https://thumbs4.properati.com/1/IOGVIfJ2zC33YZ...</td>\n",
       "    </tr>\n",
       "    <tr>\n",
       "      <th>19968</th>\n",
       "      <td>sell</td>\n",
       "      <td>house</td>\n",
       "      <td>Córdoba</td>\n",
       "      <td>|Argentina|Córdoba|Córdoba|</td>\n",
       "      <td>Argentina</td>\n",
       "      <td>Córdoba</td>\n",
       "      <td>3860259.0</td>\n",
       "      <td>-31.4226185,-64.1567069</td>\n",
       "      <td>-31.422618</td>\n",
       "      <td>-64.156707</td>\n",
       "      <td>...</td>\n",
       "      <td>111.0</td>\n",
       "      <td>NaN</td>\n",
       "      <td>1216.216216</td>\n",
       "      <td>NaN</td>\n",
       "      <td>3.0</td>\n",
       "      <td>NaN</td>\n",
       "      <td>http://www.properati.com.ar/17b6r_venta_casa_c...</td>\n",
       "      <td>Casa en Venta de 3 dorm. en Cordoba</td>\n",
       "      <td>SAN VICENTE DOS DEPTOS. + DOS LOCALES</td>\n",
       "      <td>https://thumbs4.properati.com/3/OAKHBUzd2Kbo4t...</td>\n",
       "    </tr>\n",
       "    <tr>\n",
       "      <th>32441</th>\n",
       "      <td>sell</td>\n",
       "      <td>house</td>\n",
       "      <td>Country San Jorge Village</td>\n",
       "      <td>|Argentina|Bs.As. G.B.A. Zona Norte|Malvinas A...</td>\n",
       "      <td>Argentina</td>\n",
       "      <td>Bs.As. G.B.A. Zona Norte</td>\n",
       "      <td>NaN</td>\n",
       "      <td>-34.4850031,-58.685939</td>\n",
       "      <td>-34.485003</td>\n",
       "      <td>-58.685939</td>\n",
       "      <td>...</td>\n",
       "      <td>430.0</td>\n",
       "      <td>1348.837209</td>\n",
       "      <td>1348.837209</td>\n",
       "      <td>NaN</td>\n",
       "      <td>NaN</td>\n",
       "      <td>NaN</td>\n",
       "      <td>http://www.properati.com.ar/1870i_venta_casa_c...</td>\n",
       "      <td>Sobre lote de 1523 m2, propiedad de 430 m2 apr...</td>\n",
       "      <td>Casa en venta en San Jorge Village. ¡Ambientes...</td>\n",
       "      <td>https://thumbs4.properati.com/3/wynCx_D1lcZYc3...</td>\n",
       "    </tr>\n",
       "    <tr>\n",
       "      <th>70741</th>\n",
       "      <td>sell</td>\n",
       "      <td>house</td>\n",
       "      <td>Escobar</td>\n",
       "      <td>|Argentina|Bs.As. G.B.A. Zona Norte|Escobar|</td>\n",
       "      <td>Argentina</td>\n",
       "      <td>Bs.As. G.B.A. Zona Norte</td>\n",
       "      <td>3434130.0</td>\n",
       "      <td>NaN</td>\n",
       "      <td>NaN</td>\n",
       "      <td>NaN</td>\n",
       "      <td>...</td>\n",
       "      <td>185.0</td>\n",
       "      <td>1286.486486</td>\n",
       "      <td>1286.486486</td>\n",
       "      <td>NaN</td>\n",
       "      <td>NaN</td>\n",
       "      <td>NaN</td>\n",
       "      <td>http://www.properati.com.ar/1ajzs_venta_casa_e...</td>\n",
       "      <td>Casa ubicada en el Area 3. PB: Living comedor ...</td>\n",
       "      <td>Casa en San Matias, Ing. Maschwitz, Escobar</td>\n",
       "      <td>https://thumbs4.properati.com/1/pnQXNHVAzOjU7t...</td>\n",
       "    </tr>\n",
       "    <tr>\n",
       "      <th>57791</th>\n",
       "      <td>sell</td>\n",
       "      <td>apartment</td>\n",
       "      <td>Nordelta</td>\n",
       "      <td>|Argentina|Bs.As. G.B.A. Zona Norte|Tigre|Nord...</td>\n",
       "      <td>Argentina</td>\n",
       "      <td>Bs.As. G.B.A. Zona Norte</td>\n",
       "      <td>NaN</td>\n",
       "      <td>-34.3932414,-58.64467621</td>\n",
       "      <td>-34.393241</td>\n",
       "      <td>-58.644676</td>\n",
       "      <td>...</td>\n",
       "      <td>84.0</td>\n",
       "      <td>2976.190476</td>\n",
       "      <td>2976.190476</td>\n",
       "      <td>NaN</td>\n",
       "      <td>3.0</td>\n",
       "      <td>NaN</td>\n",
       "      <td>http://www.properati.com.ar/19u4p_venta_depart...</td>\n",
       "      <td>Lindisimo departamento con vista al río y a la...</td>\n",
       "      <td>NORDELTA - PUERTO ESCONDIDO - QBAY YACHT 100</td>\n",
       "      <td>https://thumbs4.properati.com/3/arZerD3IryaPaZ...</td>\n",
       "    </tr>\n",
       "    <tr>\n",
       "      <th>2865</th>\n",
       "      <td>sell</td>\n",
       "      <td>house</td>\n",
       "      <td>Ituzaingó</td>\n",
       "      <td>|Argentina|Bs.As. G.B.A. Zona Oeste|Ituzaingó|</td>\n",
       "      <td>Argentina</td>\n",
       "      <td>Bs.As. G.B.A. Zona Oeste</td>\n",
       "      <td>3433359.0</td>\n",
       "      <td>-34.66231537,-58.68119812</td>\n",
       "      <td>-34.662315</td>\n",
       "      <td>-58.681198</td>\n",
       "      <td>...</td>\n",
       "      <td>167.0</td>\n",
       "      <td>NaN</td>\n",
       "      <td>NaN</td>\n",
       "      <td>NaN</td>\n",
       "      <td>3.0</td>\n",
       "      <td>NaN</td>\n",
       "      <td>http://www.properati.com.ar/15kme_venta_casa_i...</td>\n",
       "      <td>CHALET ESTILO ALPINO EN ESQUINA S/LOTE 335 M2-...</td>\n",
       "      <td>U$D 180.000 - Tipo casa PH en Venta - Alvear  ...</td>\n",
       "      <td>https://thumbs4.properati.com/3/PwLGq8dDlz0HOD...</td>\n",
       "    </tr>\n",
       "  </tbody>\n",
       "</table>\n",
       "<p>10 rows × 25 columns</p>\n",
       "</div>"
      ],
      "text/plain": [
       "      operation property_type                 place_name  \\\n",
       "54623      sell     apartment                  Caballito   \n",
       "84528      sell     apartment                    Rosario   \n",
       "1707       sell         house                      Tigre   \n",
       "26581      sell     apartment                      Boedo   \n",
       "76573      sell         house                  City Bell   \n",
       "19968      sell         house                    Córdoba   \n",
       "32441      sell         house  Country San Jorge Village   \n",
       "70741      sell         house                    Escobar   \n",
       "57791      sell     apartment                   Nordelta   \n",
       "2865       sell         house                  Ituzaingó   \n",
       "\n",
       "                                 place_with_parent_names country_name  \\\n",
       "54623              |Argentina|Capital Federal|Caballito|    Argentina   \n",
       "84528                       |Argentina|Santa Fe|Rosario|    Argentina   \n",
       "1707          |Argentina|Bs.As. G.B.A. Zona Norte|Tigre|    Argentina   \n",
       "26581                  |Argentina|Capital Federal|Boedo|    Argentina   \n",
       "76573  |Argentina|Bs.As. G.B.A. Zona Sur|La Plata|Cit...    Argentina   \n",
       "19968                        |Argentina|Córdoba|Córdoba|    Argentina   \n",
       "32441  |Argentina|Bs.As. G.B.A. Zona Norte|Malvinas A...    Argentina   \n",
       "70741       |Argentina|Bs.As. G.B.A. Zona Norte|Escobar|    Argentina   \n",
       "57791  |Argentina|Bs.As. G.B.A. Zona Norte|Tigre|Nord...    Argentina   \n",
       "2865      |Argentina|Bs.As. G.B.A. Zona Oeste|Ituzaingó|    Argentina   \n",
       "\n",
       "                     state_name  geonames_id                    lat-lon  \\\n",
       "54623           Capital Federal    3435874.0    -34.6254804,-58.4516687   \n",
       "84528                  Santa Fe    3838574.0                        NaN   \n",
       "1707   Bs.As. G.B.A. Zona Norte    3427753.0  -34.46538925,-58.64939117   \n",
       "26581           Capital Federal    3436003.0     -34.6222039,-58.416089   \n",
       "76573    Bs.As. G.B.A. Zona Sur    3435379.0                        NaN   \n",
       "19968                   Córdoba    3860259.0    -31.4226185,-64.1567069   \n",
       "32441  Bs.As. G.B.A. Zona Norte          NaN     -34.4850031,-58.685939   \n",
       "70741  Bs.As. G.B.A. Zona Norte    3434130.0                        NaN   \n",
       "57791  Bs.As. G.B.A. Zona Norte          NaN   -34.3932414,-58.64467621   \n",
       "2865   Bs.As. G.B.A. Zona Oeste    3433359.0  -34.66231537,-58.68119812   \n",
       "\n",
       "             lat        lon  ...  surface_covered_in_m2 price_usd_per_m2  \\\n",
       "54623 -34.625480 -58.451669  ...                   40.0      2887.500000   \n",
       "84528        NaN        NaN  ...                   60.0              NaN   \n",
       "1707  -34.465389 -58.649391  ...                  220.0              NaN   \n",
       "26581 -34.622204 -58.416089  ...                   32.0     24375.000000   \n",
       "76573        NaN        NaN  ...                  415.0              NaN   \n",
       "19968 -31.422618 -64.156707  ...                  111.0              NaN   \n",
       "32441 -34.485003 -58.685939  ...                  430.0      1348.837209   \n",
       "70741        NaN        NaN  ...                  185.0      1286.486486   \n",
       "57791 -34.393241 -58.644676  ...                   84.0      2976.190476   \n",
       "2865  -34.662315 -58.681198  ...                  167.0              NaN   \n",
       "\n",
       "       price_per_m2  floor  rooms  expenses  \\\n",
       "54623   2887.500000    3.0    NaN       NaN   \n",
       "84528  26741.666667    NaN    NaN       NaN   \n",
       "1707            NaN    NaN    3.0       NaN   \n",
       "26581  24375.000000    NaN    1.0       NaN   \n",
       "76573           NaN    NaN    NaN       NaN   \n",
       "19968   1216.216216    NaN    3.0       NaN   \n",
       "32441   1348.837209    NaN    NaN       NaN   \n",
       "70741   1286.486486    NaN    NaN       NaN   \n",
       "57791   2976.190476    NaN    3.0       NaN   \n",
       "2865            NaN    NaN    3.0       NaN   \n",
       "\n",
       "                                           properati_url  \\\n",
       "54623  http://www.properati.com.ar/19nct_venta_depart...   \n",
       "84528  http://www.properati.com.ar/1b1ts_venta_depart...   \n",
       "1707   http://www.properati.com.ar/15jaf_venta_casa_t...   \n",
       "26581  http://www.properati.com.ar/17r9f_venta_depart...   \n",
       "76573  http://www.properati.com.ar/1arre_venta_casa_c...   \n",
       "19968  http://www.properati.com.ar/17b6r_venta_casa_c...   \n",
       "32441  http://www.properati.com.ar/1870i_venta_casa_c...   \n",
       "70741  http://www.properati.com.ar/1ajzs_venta_casa_e...   \n",
       "57791  http://www.properati.com.ar/19u4p_venta_depart...   \n",
       "2865   http://www.properati.com.ar/15kme_venta_casa_i...   \n",
       "\n",
       "                                             description  \\\n",
       "54623  VENTA DEPARTAMENTO 1 Y 1/2 AMBIENTES CABALLITO...   \n",
       "84528  2 dormitorios al frente en construcción con pr...   \n",
       "1707   Zona:Residencial-Asfalto-Obra sanitaria:Pozo-P...   \n",
       "26581  Departamento  1 ambiente divisible con balconD...   \n",
       "76573  Excelente casa sobre lote de 1004 m2 con un fr...   \n",
       "19968                Casa en Venta de 3 dorm. en Cordoba   \n",
       "32441  Sobre lote de 1523 m2, propiedad de 430 m2 apr...   \n",
       "70741  Casa ubicada en el Area 3. PB: Living comedor ...   \n",
       "57791  Lindisimo departamento con vista al río y a la...   \n",
       "2865   CHALET ESTILO ALPINO EN ESQUINA S/LOTE 335 M2-...   \n",
       "\n",
       "                                                   title  \\\n",
       "54623                              DEPARTAMENTO EN VENTA   \n",
       "84528                             Departamento - Rosario   \n",
       "1707   U$D 190.000 - Casa en Venta - C Belgrano     1834   \n",
       "26581          Depa 1 amb y medio en cuotas de $ 11.000-   \n",
       "76573  Casa en Venta en City Bell Barrio Cerrado Loma...   \n",
       "19968              SAN VICENTE DOS DEPTOS. + DOS LOCALES   \n",
       "32441  Casa en venta en San Jorge Village. ¡Ambientes...   \n",
       "70741        Casa en San Matias, Ing. Maschwitz, Escobar   \n",
       "57791       NORDELTA - PUERTO ESCONDIDO - QBAY YACHT 100   \n",
       "2865   U$D 180.000 - Tipo casa PH en Venta - Alvear  ...   \n",
       "\n",
       "                                         image_thumbnail  \n",
       "54623  https://thumbs4.properati.com/9/SKOV23p_gJ3X1F...  \n",
       "84528  https://thumbs4.properati.com/4/aPov2b3WjZjTjp...  \n",
       "1707   https://thumbs4.properati.com/1/fmvlPbmy7tYCey...  \n",
       "26581  https://thumbs4.properati.com/0/4ntAWqUvQeNA1R...  \n",
       "76573  https://thumbs4.properati.com/1/IOGVIfJ2zC33YZ...  \n",
       "19968  https://thumbs4.properati.com/3/OAKHBUzd2Kbo4t...  \n",
       "32441  https://thumbs4.properati.com/3/wynCx_D1lcZYc3...  \n",
       "70741  https://thumbs4.properati.com/1/pnQXNHVAzOjU7t...  \n",
       "57791  https://thumbs4.properati.com/3/arZerD3IryaPaZ...  \n",
       "2865   https://thumbs4.properati.com/3/PwLGq8dDlz0HOD...  \n",
       "\n",
       "[10 rows x 25 columns]"
      ]
     },
     "execution_count": 38,
     "metadata": {},
     "output_type": "execute_result"
    }
   ],
   "source": [
    "data.sample(10)"
   ]
  },
  {
   "cell_type": "markdown",
   "metadata": {},
   "source": [
    "### Forma del dataframe\n",
    "\n",
    "Mediante la función **shape** conoceremos la dimensión del dataset, para darnos una primera idea de la totalidad de los datos."
   ]
  },
  {
   "cell_type": "code",
   "execution_count": 39,
   "metadata": {},
   "outputs": [
    {
     "name": "stdout",
     "output_type": "stream",
     "text": [
      "Las dimendiones del dataset son las siguientes: (121220, 25)\n"
     ]
    }
   ],
   "source": [
    "## Forma del dataset\n",
    "\n",
    "print(f'Las dimendiones del dataset son las siguientes: {data.shape}')"
   ]
  },
  {
   "cell_type": "markdown",
   "metadata": {},
   "source": [
    "Las columnas del dataset son las siguientes:"
   ]
  },
  {
   "cell_type": "code",
   "execution_count": 10,
   "metadata": {},
   "outputs": [
    {
     "data": {
      "text/plain": [
       "['operation',\n",
       " 'property_type',\n",
       " 'place_name',\n",
       " 'place_with_parent_names',\n",
       " 'country_name',\n",
       " 'state_name',\n",
       " 'geonames_id',\n",
       " 'lat-lon',\n",
       " 'lat',\n",
       " 'lon',\n",
       " 'price',\n",
       " 'currency',\n",
       " 'price_aprox_local_currency',\n",
       " 'price_aprox_usd',\n",
       " 'surface_total_in_m2',\n",
       " 'surface_covered_in_m2',\n",
       " 'price_usd_per_m2',\n",
       " 'price_per_m2',\n",
       " 'floor',\n",
       " 'rooms',\n",
       " 'expenses',\n",
       " 'properati_url',\n",
       " 'description',\n",
       " 'title',\n",
       " 'image_thumbnail']"
      ]
     },
     "execution_count": 10,
     "metadata": {},
     "output_type": "execute_result"
    }
   ],
   "source": [
    "data.columns.values.tolist()"
   ]
  },
  {
   "cell_type": "markdown",
   "metadata": {},
   "source": [
    "A continuación, vamos a realizar un resumen general del los estadísticos básicos de las variables cuantitativas del dataset:"
   ]
  },
  {
   "cell_type": "code",
   "execution_count": 11,
   "metadata": {},
   "outputs": [
    {
     "data": {
      "text/html": [
       "<div>\n",
       "<style scoped>\n",
       "    .dataframe tbody tr th:only-of-type {\n",
       "        vertical-align: middle;\n",
       "    }\n",
       "\n",
       "    .dataframe tbody tr th {\n",
       "        vertical-align: top;\n",
       "    }\n",
       "\n",
       "    .dataframe thead th {\n",
       "        text-align: right;\n",
       "    }\n",
       "</style>\n",
       "<table border=\"1\" class=\"dataframe\">\n",
       "  <thead>\n",
       "    <tr style=\"text-align: right;\">\n",
       "      <th></th>\n",
       "      <th>geonames_id</th>\n",
       "      <th>lat</th>\n",
       "      <th>lon</th>\n",
       "      <th>price</th>\n",
       "      <th>price_aprox_local_currency</th>\n",
       "      <th>price_aprox_usd</th>\n",
       "      <th>surface_total_in_m2</th>\n",
       "      <th>surface_covered_in_m2</th>\n",
       "      <th>price_usd_per_m2</th>\n",
       "      <th>price_per_m2</th>\n",
       "      <th>floor</th>\n",
       "      <th>rooms</th>\n",
       "      <th>expenses</th>\n",
       "    </tr>\n",
       "  </thead>\n",
       "  <tbody>\n",
       "    <tr>\n",
       "      <th>count</th>\n",
       "      <td>1.025030e+05</td>\n",
       "      <td>69670.000000</td>\n",
       "      <td>69670.000000</td>\n",
       "      <td>1.008100e+05</td>\n",
       "      <td>1.008100e+05</td>\n",
       "      <td>1.008100e+05</td>\n",
       "      <td>81892.000000</td>\n",
       "      <td>101313.000000</td>\n",
       "      <td>68617.000000</td>\n",
       "      <td>8.765800e+04</td>\n",
       "      <td>7899.000000</td>\n",
       "      <td>47390.000000</td>\n",
       "      <td>1.426200e+04</td>\n",
       "    </tr>\n",
       "    <tr>\n",
       "      <th>mean</th>\n",
       "      <td>3.574442e+06</td>\n",
       "      <td>-34.626210</td>\n",
       "      <td>-59.266290</td>\n",
       "      <td>4.685259e+05</td>\n",
       "      <td>4.229397e+06</td>\n",
       "      <td>2.397006e+05</td>\n",
       "      <td>233.795328</td>\n",
       "      <td>133.050181</td>\n",
       "      <td>2160.086916</td>\n",
       "      <td>6.912216e+03</td>\n",
       "      <td>17.452336</td>\n",
       "      <td>3.080840</td>\n",
       "      <td>5.009234e+03</td>\n",
       "    </tr>\n",
       "    <tr>\n",
       "      <th>std</th>\n",
       "      <td>3.541306e+05</td>\n",
       "      <td>1.980936</td>\n",
       "      <td>2.299922</td>\n",
       "      <td>2.260101e+06</td>\n",
       "      <td>6.904714e+06</td>\n",
       "      <td>3.913239e+05</td>\n",
       "      <td>1782.222147</td>\n",
       "      <td>724.351479</td>\n",
       "      <td>2759.288621</td>\n",
       "      <td>2.837864e+04</td>\n",
       "      <td>120.243621</td>\n",
       "      <td>1.860773</td>\n",
       "      <td>1.204403e+05</td>\n",
       "    </tr>\n",
       "    <tr>\n",
       "      <th>min</th>\n",
       "      <td>3.427208e+06</td>\n",
       "      <td>-54.823985</td>\n",
       "      <td>-75.678931</td>\n",
       "      <td>0.000000e+00</td>\n",
       "      <td>0.000000e+00</td>\n",
       "      <td>0.000000e+00</td>\n",
       "      <td>0.000000</td>\n",
       "      <td>0.000000</td>\n",
       "      <td>0.600000</td>\n",
       "      <td>1.510204e+00</td>\n",
       "      <td>1.000000</td>\n",
       "      <td>1.000000</td>\n",
       "      <td>1.000000e+00</td>\n",
       "    </tr>\n",
       "    <tr>\n",
       "      <th>25%</th>\n",
       "      <td>3.430234e+06</td>\n",
       "      <td>-34.669065</td>\n",
       "      <td>-58.727040</td>\n",
       "      <td>1.100000e+05</td>\n",
       "      <td>1.583309e+06</td>\n",
       "      <td>8.973388e+04</td>\n",
       "      <td>50.000000</td>\n",
       "      <td>45.000000</td>\n",
       "      <td>1218.181818</td>\n",
       "      <td>1.550000e+03</td>\n",
       "      <td>1.000000</td>\n",
       "      <td>2.000000</td>\n",
       "      <td>1.000000e+03</td>\n",
       "    </tr>\n",
       "    <tr>\n",
       "      <th>50%</th>\n",
       "      <td>3.433910e+06</td>\n",
       "      <td>-34.597985</td>\n",
       "      <td>-58.480128</td>\n",
       "      <td>1.850000e+05</td>\n",
       "      <td>2.558452e+06</td>\n",
       "      <td>1.450000e+05</td>\n",
       "      <td>84.000000</td>\n",
       "      <td>75.000000</td>\n",
       "      <td>1800.000000</td>\n",
       "      <td>2.213115e+03</td>\n",
       "      <td>3.000000</td>\n",
       "      <td>3.000000</td>\n",
       "      <td>2.000000e+03</td>\n",
       "    </tr>\n",
       "    <tr>\n",
       "      <th>75%</th>\n",
       "      <td>3.836668e+06</td>\n",
       "      <td>-34.441299</td>\n",
       "      <td>-58.395908</td>\n",
       "      <td>4.200000e+05</td>\n",
       "      <td>4.675792e+06</td>\n",
       "      <td>2.650000e+05</td>\n",
       "      <td>200.000000</td>\n",
       "      <td>150.000000</td>\n",
       "      <td>2486.411765</td>\n",
       "      <td>3.355549e+03</td>\n",
       "      <td>6.000000</td>\n",
       "      <td>4.000000</td>\n",
       "      <td>4.000000e+03</td>\n",
       "    </tr>\n",
       "    <tr>\n",
       "      <th>max</th>\n",
       "      <td>6.948895e+06</td>\n",
       "      <td>4.545843</td>\n",
       "      <td>-53.733330</td>\n",
       "      <td>6.500000e+08</td>\n",
       "      <td>8.212711e+08</td>\n",
       "      <td>4.654544e+07</td>\n",
       "      <td>200000.000000</td>\n",
       "      <td>187000.000000</td>\n",
       "      <td>206333.333333</td>\n",
       "      <td>4.000000e+06</td>\n",
       "      <td>3150.000000</td>\n",
       "      <td>32.000000</td>\n",
       "      <td>1.000150e+07</td>\n",
       "    </tr>\n",
       "  </tbody>\n",
       "</table>\n",
       "</div>"
      ],
      "text/plain": [
       "        geonames_id           lat           lon         price  \\\n",
       "count  1.025030e+05  69670.000000  69670.000000  1.008100e+05   \n",
       "mean   3.574442e+06    -34.626210    -59.266290  4.685259e+05   \n",
       "std    3.541306e+05      1.980936      2.299922  2.260101e+06   \n",
       "min    3.427208e+06    -54.823985    -75.678931  0.000000e+00   \n",
       "25%    3.430234e+06    -34.669065    -58.727040  1.100000e+05   \n",
       "50%    3.433910e+06    -34.597985    -58.480128  1.850000e+05   \n",
       "75%    3.836668e+06    -34.441299    -58.395908  4.200000e+05   \n",
       "max    6.948895e+06      4.545843    -53.733330  6.500000e+08   \n",
       "\n",
       "       price_aprox_local_currency  price_aprox_usd  surface_total_in_m2  \\\n",
       "count                1.008100e+05     1.008100e+05         81892.000000   \n",
       "mean                 4.229397e+06     2.397006e+05           233.795328   \n",
       "std                  6.904714e+06     3.913239e+05          1782.222147   \n",
       "min                  0.000000e+00     0.000000e+00             0.000000   \n",
       "25%                  1.583309e+06     8.973388e+04            50.000000   \n",
       "50%                  2.558452e+06     1.450000e+05            84.000000   \n",
       "75%                  4.675792e+06     2.650000e+05           200.000000   \n",
       "max                  8.212711e+08     4.654544e+07        200000.000000   \n",
       "\n",
       "       surface_covered_in_m2  price_usd_per_m2  price_per_m2        floor  \\\n",
       "count          101313.000000      68617.000000  8.765800e+04  7899.000000   \n",
       "mean              133.050181       2160.086916  6.912216e+03    17.452336   \n",
       "std               724.351479       2759.288621  2.837864e+04   120.243621   \n",
       "min                 0.000000          0.600000  1.510204e+00     1.000000   \n",
       "25%                45.000000       1218.181818  1.550000e+03     1.000000   \n",
       "50%                75.000000       1800.000000  2.213115e+03     3.000000   \n",
       "75%               150.000000       2486.411765  3.355549e+03     6.000000   \n",
       "max            187000.000000     206333.333333  4.000000e+06  3150.000000   \n",
       "\n",
       "              rooms      expenses  \n",
       "count  47390.000000  1.426200e+04  \n",
       "mean       3.080840  5.009234e+03  \n",
       "std        1.860773  1.204403e+05  \n",
       "min        1.000000  1.000000e+00  \n",
       "25%        2.000000  1.000000e+03  \n",
       "50%        3.000000  2.000000e+03  \n",
       "75%        4.000000  4.000000e+03  \n",
       "max       32.000000  1.000150e+07  "
      ]
     },
     "execution_count": 11,
     "metadata": {},
     "output_type": "execute_result"
    }
   ],
   "source": [
    "data.describe()"
   ]
  },
  {
   "cell_type": "code",
   "execution_count": 12,
   "metadata": {},
   "outputs": [
    {
     "data": {
      "text/plain": [
       "operation                      object\n",
       "property_type                  object\n",
       "place_name                     object\n",
       "place_with_parent_names        object\n",
       "country_name                   object\n",
       "state_name                     object\n",
       "geonames_id                   float64\n",
       "lat-lon                        object\n",
       "lat                           float64\n",
       "lon                           float64\n",
       "price                         float64\n",
       "currency                       object\n",
       "price_aprox_local_currency    float64\n",
       "price_aprox_usd               float64\n",
       "surface_total_in_m2           float64\n",
       "surface_covered_in_m2         float64\n",
       "price_usd_per_m2              float64\n",
       "price_per_m2                  float64\n",
       "floor                         float64\n",
       "rooms                         float64\n",
       "expenses                      float64\n",
       "properati_url                  object\n",
       "description                    object\n",
       "title                          object\n",
       "image_thumbnail                object\n",
       "dtype: object"
      ]
     },
     "execution_count": 12,
     "metadata": {},
     "output_type": "execute_result"
    }
   ],
   "source": [
    "data.dtypes"
   ]
  },
  {
   "cell_type": "markdown",
   "metadata": {},
   "source": [
    "## Missing values"
   ]
  },
  {
   "cell_type": "code",
   "execution_count": 15,
   "metadata": {},
   "outputs": [
    {
     "data": {
      "text/plain": [
       "operation                      0.000000\n",
       "property_type                  0.000000\n",
       "place_name                     0.018974\n",
       "place_with_parent_names        0.000000\n",
       "country_name                   0.000000\n",
       "state_name                     0.000000\n",
       "geonames_id                   15.440521\n",
       "lat-lon                       42.525986\n",
       "lat                           42.525986\n",
       "lon                           42.525986\n",
       "price                         16.837156\n",
       "currency                      16.837981\n",
       "price_aprox_local_currency    16.837156\n",
       "price_aprox_usd               16.837156\n",
       "surface_total_in_m2           32.443491\n",
       "surface_covered_in_m2         16.422208\n",
       "price_usd_per_m2              43.394654\n",
       "price_per_m2                  27.686850\n",
       "floor                         93.483749\n",
       "rooms                         60.905791\n",
       "expenses                      88.234615\n",
       "properati_url                  0.000000\n",
       "description                    0.001650\n",
       "title                          0.000000\n",
       "image_thumbnail                2.567233\n",
       "dtype: float64"
      ]
     },
     "execution_count": 15,
     "metadata": {},
     "output_type": "execute_result"
    }
   ],
   "source": [
    "pd.isnull(data).sum()/121220*100"
   ]
  },
  {
   "cell_type": "markdown",
   "metadata": {},
   "source": [
    "### Primeros pasos\n",
    "\n",
    "Se verifica si efectivamente la columna \"operation\", cuenta unicamente con el dato \"sell\", mediante la utilización de Boolean indexing."
   ]
  },
  {
   "cell_type": "code",
   "execution_count": 18,
   "metadata": {},
   "outputs": [
    {
     "data": {
      "text/plain": [
       "[]"
      ]
     },
     "execution_count": 18,
     "metadata": {},
     "output_type": "execute_result"
    }
   ],
   "source": [
    "mask = data.operation != 'sell'\n",
    "\n",
    "data[mask].values.tolist()"
   ]
  },
  {
   "cell_type": "markdown",
   "metadata": {},
   "source": [
    "Eliminando datos atípicos"
   ]
  },
  {
   "cell_type": "code",
   "execution_count": 78,
   "metadata": {},
   "outputs": [
    {
     "data": {
      "text/plain": [
       "(121167, 25)"
      ]
     },
     "execution_count": 78,
     "metadata": {},
     "output_type": "execute_result"
    }
   ],
   "source": [
    "# mask1 = data.surface_total_in_m2<= 150000\n",
    "\n",
    "# mask2 = data.surface_covered_in_m2.isna() == True\n",
    "\n",
    "# data2 = data[mask1 & mask2]\n",
    "\n",
    "\n",
    "mask = data.surface_total_in_m2<= 15000\n",
    "mask2 = data.surface_total_in_m2.isna() == True\n",
    "\n",
    "data2 = data[mask2 | mask]\n",
    "data2.shape\n",
    "\n",
    "\n"
   ]
  },
  {
   "cell_type": "markdown",
   "metadata": {},
   "source": [
    "Al obtener una lista vacia, confirmamos que la columna tiene un único valor, por lo cual, procedemos a eliminarla."
   ]
  },
  {
   "cell_type": "markdown",
   "metadata": {},
   "source": [
    "### Gráficas"
   ]
  },
  {
   "cell_type": "code",
   "execution_count": 79,
   "metadata": {},
   "outputs": [
    {
     "data": {
      "text/plain": [
       "(array([8.7618e+04, 3.0000e+01, 2.0000e+00, 2.0000e+00, 3.0000e+00,\n",
       "        1.0000e+00, 1.0000e+00, 0.0000e+00, 0.0000e+00, 1.0000e+00]),\n",
       " array([1.51020408e+00, 4.00001355e+05, 8.00001200e+05, 1.20000105e+06,\n",
       "        1.60000089e+06, 2.00000074e+06, 2.40000058e+06, 2.80000043e+06,\n",
       "        3.20000027e+06, 3.60000012e+06, 3.99999996e+06]),\n",
       " <BarContainer object of 10 artists>)"
      ]
     },
     "execution_count": 79,
     "metadata": {},
     "output_type": "execute_result"
    },
    {
     "data": {
      "image/png": "[encoded data removed]",
      "text/plain": [
       "<Figure size 1080x720 with 4 Axes>"
      ]
     },
     "metadata": {
      "needs_background": "light"
     },
     "output_type": "display_data"
    }
   ],
   "source": [
    "%matplotlib inline\n",
    "\n",
    "n_bins = 10\n",
    "\n",
    "fig, axs = plt.subplots(2,2, figsize = (15,10))\n",
    "axs[0,0].hist(data2.surface_total_in_m2, bins = n_bins)\n",
    "axs[0,1].hist(data.surface_covered_in_m2)\n",
    "axs[1,0].hist(data.price_usd_per_m2)\n",
    "axs[1,1].hist(data.price_per_m2)"
   ]
  },
  {
   "cell_type": "code",
   "execution_count": 80,
   "metadata": {},
   "outputs": [
    {
     "data": {
      "text/plain": [
       "15000.0"
      ]
     },
     "execution_count": 80,
     "metadata": {},
     "output_type": "execute_result"
    }
   ],
   "source": [
    "data2.surface_total_in_m2.max()"
   ]
  },
  {
   "cell_type": "code",
   "execution_count": 86,
   "metadata": {},
   "outputs": [
    {
     "data": {
      "text/plain": [
       "[(0.0, 1000.0)]"
      ]
     },
     "execution_count": 86,
     "metadata": {},
     "output_type": "execute_result"
    },
    {
     "data": {
      "image/png": "[encoded data removed]",
      "text/plain": [
       "<Figure size 432x288 with 1 Axes>"
      ]
     },
     "metadata": {
      "needs_background": "light"
     },
     "output_type": "display_data"
    }
   ],
   "source": [
    "g = sns.histplot(data=data2, x = 'surface_total_in_m2', hue='property_type')\n",
    "g.set(xlim = (0, 1000))"
   ]
  },
  {
   "cell_type": "code",
   "execution_count": null,
   "metadata": {},
   "outputs": [],
   "source": []
  }
 ],
 "metadata": {
  "kernelspec": {
   "display_name": "Python 3.10.5 64-bit",
   "language": "python",
   "name": "python3"
  },
  "language_info": {
   "codemirror_mode": {
    "name": "ipython",
    "version": 3
   },
   "file_extension": ".py",
   "mimetype": "text/x-python",
   "name": "python",
   "nbconvert_exporter": "python",
   "pygments_lexer": "ipython3",
   "version": "3.10.5"
  },
  "orig_nbformat": 4,
  "vscode": {
   "interpreter": {
    "hash": "c8c8499f7cec030fe9efc89c701cb671e3c9d7dec9b03dc0b0fb39cbef3cc0c9"
   }
  }
 },
 "nbformat": 4,
 "nbformat_minor": 2
}
