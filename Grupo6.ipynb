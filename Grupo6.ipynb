{
  "cells": [
    {
      "cell_type": "markdown",
      "metadata": {
        "colab_type": "text",
        "id": "view-in-github"
      },
      "source": [
        "<a href=\"https://colab.research.google.com/github/refo44/dhds_tp1_grupo6/blob/main/Grupo6.ipynb\" target=\"_parent\"><img src=\"https://colab.research.google.com/assets/colab-badge.svg\" alt=\"Open In Colab\"/></a>"
      ]
    },
    {
      "cell_type": "markdown",
      "metadata": {
        "id": "CxfxpWECMmwU"
      },
      "source": [
        "Limpieza de datos\n",
        "\n",
        "Autores:\n",
        "\n",
        "Alejandro Pacheco\n",
        "Laura Martinez\n",
        "Juan Carlos Marín\n",
        "Ignacio Neves\n",
        "Luisa Correa\n",
        "Rafael Figueredo\n"
      ]
    },
    {
      "cell_type": "markdown",
      "metadata": {
        "id": "7vt8BD5KMmww"
      },
      "source": [
        "## Librerias\n",
        "\n",
        "Inicialmente, importamos las librerias con las que se planea trabajar, para entender los datos y como trabajarlos."
      ]
    },
    {
      "cell_type": "code",
      "execution_count": null,
      "metadata": {
        "id": "zuZq26zvMmxB"
      },
      "outputs": [],
      "source": [
        "import pandas as pd\n",
        "import matplotlib.pyplot as plt\n",
        "import seaborn as sns\n",
        "import numpy as np"
      ]
    },
    {
      "cell_type": "markdown",
      "metadata": {
        "id": "a-YPKOksMmxK"
      },
      "source": [
        "## Lectura del dataframe\n",
        "\n",
        "Utilizamos la libreria Pandas para leer el dataset, y realizaremos un sampleo de 10 datos, el caual nos permite identificar columnas que cuentan con la misma información.\n",
        "\n",
        "A continuación, utilizaremos el metodo **set_index()** para cambiar establecer la columna \"Unnamed: 0\" como el indice del dataframe."
      ]
    },
    {
      "cell_type": "code",
      "execution_count": null,
      "metadata": {
        "id": "n11EMWL_MmxQ"
      },
      "outputs": [],
      "source": [
        "data = pd.read_csv(\"properatti.csv\")\n",
        "data = data.drop('Unnamed: 0', axis = 1)"
      ]
    },
    {
      "cell_type": "markdown",
      "metadata": {
        "id": "1X18w_LLMmxa"
      },
      "source": [
        "data.sample(10)"
      ]
    },
    {
      "cell_type": "markdown",
      "metadata": {
        "id": "l4V8MirrMmxe"
      },
      "source": [
        "### Forma del dataframe\n",
        "\n",
        "Mediante la función **shape** conoceremos la dimensión del dataset, para darnos una primera idea de la totalidad de los datos."
      ]
    },
    {
      "cell_type": "code",
      "execution_count": null,
      "metadata": {
        "colab": {
          "base_uri": "https://localhost:8080/"
        },
        "id": "MBEUNKU-Mmxo",
        "outputId": "773dd34a-e004-4e5a-c1f9-f145f42c0fea"
      },
      "outputs": [],
      "source": [
        "## Forma del dataset\n",
        "\n",
        "print(f'Las dimendiones del dataset son las siguientes: {data.shape}')"
      ]
    },
    {
      "cell_type": "code",
      "execution_count": null,
      "metadata": {
        "id": "86EdfiBWMmxy"
      },
      "outputs": [],
      "source": [
        "#Las columnas del dataset son las siguientes:"
      ]
    },
    {
      "cell_type": "code",
      "execution_count": null,
      "metadata": {
        "colab": {
          "base_uri": "https://localhost:8080/"
        },
        "id": "nGmHR3FlMmx3",
        "outputId": "117adb64-d8a3-44fa-9caa-10cdf3255133"
      },
      "outputs": [],
      "source": [
        "data.columns.values.tolist()"
      ]
    },
    {
      "cell_type": "markdown",
      "metadata": {
        "id": "ZpZSIAMrMmx6"
      },
      "source": [
        "A continuación, vamos a realizar un resumen general del los estadísticos básicos de las variables cuantitativas del dataset:"
      ]
    },
    {
      "cell_type": "code",
      "execution_count": null,
      "metadata": {
        "colab": {
          "base_uri": "https://localhost:8080/",
          "height": 364
        },
        "id": "ZeGQc1dpMmyA",
        "outputId": "9bcac38b-f353-4e7b-f2f8-ac3bef2f42ed"
      },
      "outputs": [],
      "source": [
        "data.describe()"
      ]
    },
    {
      "cell_type": "code",
      "execution_count": null,
      "metadata": {
        "colab": {
          "base_uri": "https://localhost:8080/"
        },
        "id": "eAMa2MrzMmyE",
        "outputId": "3bb610d4-d863-4381-af4d-a8745d1bed6f"
      },
      "outputs": [],
      "source": [
        "data.dtypes"
      ]
    },
    {
      "cell_type": "markdown",
      "metadata": {
        "id": "iLrNwWHfMmyI"
      },
      "source": [
        "## Missing values"
      ]
    },
    {
      "cell_type": "code",
      "execution_count": null,
      "metadata": {
        "colab": {
          "base_uri": "https://localhost:8080/"
        },
        "id": "uaLhFTcEMmyL",
        "outputId": "a50e66d2-3272-471c-c4ab-7ec7804bd143"
      },
      "outputs": [],
      "source": [
        "pd.isnull(data).sum()/121220*100"
      ]
    },
    {
      "cell_type": "markdown",
      "metadata": {
        "id": "FMo3riaQMmyP"
      },
      "source": [
        "### Primeros pasos\n",
        "\n",
        "Se verifica si efectivamente la columna \"operation\", cuenta unicamente con el dato \"sell\", mediante la utilización de Boolean indexing."
      ]
    },
    {
      "cell_type": "code",
      "execution_count": null,
      "metadata": {
        "colab": {
          "base_uri": "https://localhost:8080/"
        },
        "id": "nFTJVEOqMmyV",
        "outputId": "b8271324-b6f9-4eff-d0b5-603db1739443"
      },
      "outputs": [],
      "source": [
        "mask = data.operation != 'sell'\n",
        "\n",
        "data[mask].values.tolist()"
      ]
    },
    {
      "cell_type": "markdown",
      "metadata": {
        "id": "rfFcYHU_Mmyc"
      },
      "source": [
        "Eliminando datos atípicos"
      ]
    },
    {
      "cell_type": "code",
      "execution_count": null,
      "metadata": {
        "colab": {
          "base_uri": "https://localhost:8080/"
        },
        "id": "Ha7NQsuZMmyg",
        "outputId": "e6b2833a-fc44-423a-cc32-d5bebeea395c"
      },
      "outputs": [],
      "source": [
        "# mask1 = data.surface_total_in_m2<= 150000\n",
        "\n",
        "# mask2 = data.surface_covered_in_m2.isna() == True\n",
        "\n",
        "# data2 = data[mask1 & mask2]\n",
        "\n",
        "\n",
        "mask = data.surface_total_in_m2<= 15000\n",
        "mask2 = data.surface_total_in_m2.isna() == True\n",
        "\n",
        "data2 = data[mask2 | mask]\n",
        "data2.shape\n",
        "\n",
        "\n"
      ]
    },
    {
      "cell_type": "markdown",
      "metadata": {
        "id": "Z8K4xh-KMmyo"
      },
      "source": [
        "Al obtener una lista vacia, confirmamos que la columna tiene un único valor, por lo cual, procedemos a eliminarla."
      ]
    },
    {
      "cell_type": "markdown",
      "metadata": {
        "id": "-9bJkI94Mmys"
      },
      "source": [
        "### Gráficas"
      ]
    },
    {
      "cell_type": "code",
      "execution_count": null,
      "metadata": {
        "colab": {
          "base_uri": "https://localhost:8080/",
          "height": 714
        },
        "id": "-58yFIBiMmyw",
        "outputId": "db661292-bb00-4b39-e72b-466862002cb0"
      },
      "outputs": [],
      "source": [
        "%matplotlib inline\n",
        "\n",
        "n_bins = 10\n",
        "\n",
        "fig, axs = plt.subplots(2,2, figsize = (15,10))\n",
        "axs[0,0].hist(data2.surface_total_in_m2, bins = n_bins)\n",
        "axs[0,1].hist(data.surface_covered_in_m2)\n",
        "axs[1,0].hist(data.price_usd_per_m2)\n",
        "axs[1,1].hist(data.price_per_m2)"
      ]
    },
    {
      "cell_type": "markdown",
      "metadata": {
        "id": "85-l7q0TgzB9"
      },
      "source": [
        "Limpieza columna PRECIO X M2"
      ]
    },
    {
      "cell_type": "code",
      "execution_count": null,
      "metadata": {
        "colab": {
          "base_uri": "https://localhost:8080/"
        },
        "id": "UWSeBIk0Mmy3",
        "outputId": "34c9befe-41db-4d96-aad6-f31e5a0335fc",
        "scrolled": true
      },
      "outputs": [],
      "source": [
        "data2.price_per_m2.max()"
      ]
    },
    {
      "cell_type": "code",
      "execution_count": null,
      "metadata": {
        "colab": {
          "base_uri": "https://localhost:8080/"
        },
        "id": "4idCRarkMmy8",
        "outputId": "971f22f2-4808-442f-a04c-02e24b95c4c3",
        "scrolled": true
      },
      "outputs": [],
      "source": [
        "data2.price_per_m2.quantile(0.75)"
      ]
    },
    {
      "cell_type": "code",
      "execution_count": null,
      "metadata": {
        "colab": {
          "base_uri": "https://localhost:8080/"
        },
        "id": "pZy6u6PtfN-p",
        "outputId": "14a02e4d-5b31-4da5-d7c6-bdf52a1b0452"
      },
      "outputs": [],
      "source": [
        "data2[\"precio_x_m2\"] = np.where(data2.price_per_m2 > data2.price_per_m2.quantile(0.90),data2.price_per_m2.mean(),data2.price_per_m2)\n",
        "data2[\"precio_x_m2\"] = data2.precio_x_m2.fillna(data2.precio_x_m2.mean())"
      ]
    },
    {
      "cell_type": "code",
      "execution_count": null,
      "metadata": {
        "id": "znzoWQKKpQeM"
      },
      "outputs": [],
      "source": []
    },
    {
      "cell_type": "code",
      "execution_count": null,
      "metadata": {
        "colab": {
          "base_uri": "https://localhost:8080/",
          "height": 560
        },
        "id": "5u16Pg15YETo",
        "outputId": "70a2b2d8-f9fc-4861-da96-1eb550c0e36c"
      },
      "outputs": [],
      "source": [
        "data2.head()"
      ]
    },
    {
      "cell_type": "code",
      "execution_count": null,
      "metadata": {
        "id": "bSz6HRFTSuV8"
      },
      "outputs": [],
      "source": []
    },
    {
      "cell_type": "code",
      "execution_count": null,
      "metadata": {
        "colab": {
          "base_uri": "https://localhost:8080/",
          "height": 299
        },
        "id": "7IJH2Xs6Remn",
        "outputId": "e4967d4d-8702-478a-b9a5-a11faca068c2"
      },
      "outputs": [],
      "source": [
        "g = sns.histplot(data=data2, x = 'price_per_m2')\n",
        "g.set(xlim = (0, 10000))"
      ]
    },
    {
      "cell_type": "code",
      "execution_count": null,
      "metadata": {
        "colab": {
          "base_uri": "https://localhost:8080/",
          "height": 298
        },
        "id": "T5BrCGh7cCOB",
        "outputId": "14fff9ab-5c85-481c-be51-09b402a2fb28"
      },
      "outputs": [],
      "source": [
        "g = sns.histplot(data=data2, x = 'precio_x_m2')\n",
        "g.set(xlim = (0,data2.precio_x_m2.max()))"
      ]
    },
    {
      "cell_type": "code",
      "execution_count": null,
      "metadata": {
        "colab": {
          "base_uri": "https://localhost:8080/",
          "height": 939
        },
        "id": "raOi0YIGfk_R",
        "outputId": "2bdec1d4-1505-4a84-b55e-281b30d06bf7"
      },
      "outputs": [],
      "source": [
        "data2.drop(['price_per_m2'] , axis = 1)"
      ]
    },
    {
      "cell_type": "code",
      "execution_count": null,
      "metadata": {
        "colab": {
          "base_uri": "https://localhost:8080/",
          "height": 298
        },
        "id": "0R3WxThVgtm2",
        "outputId": "b2b0bae0-9231-4475-b4ed-b5af53718373"
      },
      "outputs": [],
      "source": [
        "g = sns.histplot(data=data2, x = 'precio_x_m2')\n",
        "g.set(xlim = (0,data2.precio_x_m2.max()))"
      ]
    },
    {
      "cell_type": "markdown",
      "metadata": {
        "id": "XQtzVxgEp7Fa"
      },
      "source": [
        "Limpieza columna FLOOR"
      ]
    },
    {
      "cell_type": "code",
      "execution_count": null,
      "metadata": {
        "colab": {
          "base_uri": "https://localhost:8080/"
        },
        "id": "d0sylClzppUH",
        "outputId": "e8440de7-af80-466a-e33f-d17072a98cdc"
      },
      "outputs": [],
      "source": [
        "data2.floor.max()"
      ]
    },
    {
      "cell_type": "code",
      "execution_count": null,
      "metadata": {
        "colab": {
          "base_uri": "https://localhost:8080/"
        },
        "id": "5xXl9-6PprqW",
        "outputId": "d837001d-8667-42f4-fdeb-bf8b8b340557"
      },
      "outputs": [],
      "source": [
        "data2.price_per_m2.quantile(0.75)"
      ]
    },
    {
      "cell_type": "code",
      "execution_count": null,
      "metadata": {
        "colab": {
          "base_uri": "https://localhost:8080/",
          "height": 778
        },
        "id": "JepEJpoupq19",
        "outputId": "641d2371-3b4c-47e9-f3d2-3db190f109a6"
      },
      "outputs": [],
      "source": [
        "data2[\"piso\"] = np.where(data2.floor > data2.floor.quantile(0.90),data2.floor.mean(),data2.floor)\n",
        "data2[\"piso\"] = data2.piso.fillna(data2.piso.mean())\n",
        "data2.head()"
      ]
    },
    {
      "cell_type": "code",
      "execution_count": null,
      "metadata": {
        "colab": {
          "base_uri": "https://localhost:8080/",
          "height": 939
        },
        "id": "OgQd9_Obq2St",
        "outputId": "c08691e2-ada7-4f2b-b157-cdbfc718141d"
      },
      "outputs": [],
      "source": [
        "data2.drop(['floor'] , axis = 1)"
      ]
    },
    {
      "cell_type": "code",
      "execution_count": null,
      "metadata": {
        "colab": {
          "base_uri": "https://localhost:8080/",
          "height": 297
        },
        "id": "WT8ey0TysapT",
        "outputId": "015c01e1-57ab-4e46-d124-783b11e73b0d"
      },
      "outputs": [],
      "source": [
        "g = sns.histplot(data=data2, x = 'floor')\n",
        "g.set(xlim = (0,40))"
      ]
    }
  ],
  "metadata": {
    "colab": {
      "collapsed_sections": [],
      "include_colab_link": true,
      "provenance": []
    },
    "kernelspec": {
      "display_name": "Python 3 (ipykernel)",
      "language": "python",
      "name": "python3"
    },
    "language_info": {
      "codemirror_mode": {
        "name": "ipython",
        "version": 3
      },
      "file_extension": ".py",
      "mimetype": "text/x-python",
      "name": "python",
      "nbconvert_exporter": "python",
      "pygments_lexer": "ipython3",
      "version": "3.9.13"
    },
    "vscode": {
      "interpreter": {
        "hash": "c8c8499f7cec030fe9efc89c701cb671e3c9d7dec9b03dc0b0fb39cbef3cc0c9"
      }
    }
  },
  "nbformat": 4,
  "nbformat_minor": 0
}
